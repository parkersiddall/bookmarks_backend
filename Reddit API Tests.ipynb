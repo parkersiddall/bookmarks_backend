{
 "cells": [
  {
   "cell_type": "code",
   "execution_count": 1,
   "id": "exclusive-jurisdiction",
   "metadata": {},
   "outputs": [],
   "source": [
    "import requests"
   ]
  },
  {
   "cell_type": "code",
   "execution_count": 2,
   "id": "elder-preparation",
   "metadata": {},
   "outputs": [],
   "source": [
    "response = requests.get('https://www.reddit.com/r/90s/top.json?limit=1&after=t3_od9tu2')"
   ]
  },
  {
   "cell_type": "code",
   "execution_count": 3,
   "id": "english-growth",
   "metadata": {},
   "outputs": [
    {
     "data": {
      "text/plain": [
       "<Response [200]>"
      ]
     },
     "execution_count": 3,
     "metadata": {},
     "output_type": "execute_result"
    }
   ],
   "source": [
    "response"
   ]
  },
  {
   "cell_type": "code",
   "execution_count": 4,
   "id": "proprietary-breast",
   "metadata": {},
   "outputs": [
    {
     "ename": "AttributeError",
     "evalue": "'Response' object has no attribute 'data'",
     "output_type": "error",
     "traceback": [
      "\u001b[0;31m---------------------------------------------------------------------------\u001b[0m",
      "\u001b[0;31mAttributeError\u001b[0m                            Traceback (most recent call last)",
      "\u001b[0;32m<ipython-input-4-b8c14a04674c>\u001b[0m in \u001b[0;36m<module>\u001b[0;34m\u001b[0m\n\u001b[0;32m----> 1\u001b[0;31m \u001b[0mresponse\u001b[0m\u001b[0;34m.\u001b[0m\u001b[0mdata\u001b[0m\u001b[0;34m\u001b[0m\u001b[0;34m\u001b[0m\u001b[0m\n\u001b[0m",
      "\u001b[0;31mAttributeError\u001b[0m: 'Response' object has no attribute 'data'"
     ]
    }
   ],
   "source": [
    "response.data"
   ]
  },
  {
   "cell_type": "code",
   "execution_count": 5,
   "id": "explicit-carol",
   "metadata": {},
   "outputs": [
    {
     "data": {
      "text/plain": [
       "<bound method Response.json of <Response [200]>>"
      ]
     },
     "execution_count": 5,
     "metadata": {},
     "output_type": "execute_result"
    }
   ],
   "source": [
    "response.json"
   ]
  },
  {
   "cell_type": "code",
   "execution_count": 6,
   "id": "touched-opening",
   "metadata": {},
   "outputs": [
    {
     "ename": "NameError",
     "evalue": "name 'respone' is not defined",
     "output_type": "error",
     "traceback": [
      "\u001b[0;31m---------------------------------------------------------------------------\u001b[0m",
      "\u001b[0;31mNameError\u001b[0m                                 Traceback (most recent call last)",
      "\u001b[0;32m<ipython-input-6-09c9a18d7d0c>\u001b[0m in \u001b[0;36m<module>\u001b[0;34m\u001b[0m\n\u001b[0;32m----> 1\u001b[0;31m \u001b[0mrespone\u001b[0m\u001b[0;34m.\u001b[0m\u001b[0mjson\u001b[0m\u001b[0;34m(\u001b[0m\u001b[0;34m)\u001b[0m\u001b[0;34m\u001b[0m\u001b[0;34m\u001b[0m\u001b[0m\n\u001b[0m",
      "\u001b[0;31mNameError\u001b[0m: name 'respone' is not defined"
     ]
    }
   ],
   "source": [
    "respone.json()"
   ]
  },
  {
   "cell_type": "code",
   "execution_count": 7,
   "id": "acting-permit",
   "metadata": {},
   "outputs": [
    {
     "data": {
      "text/plain": [
       "'{\"kind\": \"Listing\", \"data\": {\"after\": \"t3_od56h4\", \"dist\": 1, \"modhash\": \"\", \"geo_filter\": \"\", \"children\": [{\"kind\": \"t3\", \"data\": {\"approved_at_utc\": null, \"subreddit\": \"90s\", \"selftext\": \"\", \"author_fullname\": \"t2_32ofmo90\", \"saved\": false, \"mod_reason_title\": null, \"gilded\": 0, \"clicked\": false, \"is_gallery\": true, \"title\": \"PENNY from Pee-Wee\\'s play house\", \"link_flair_richtext\": [], \"subreddit_name_prefixed\": \"r/90s\", \"hidden\": false, \"pwls\": 6, \"link_flair_css_class\": null, \"downs\": 0, \"thumbnail_height\": 102, \"top_awarded_type\": null, \"hide_score\": false, \"media_metadata\": {\"rl8mtc0kz1971\": {\"status\": \"valid\", \"e\": \"Image\", \"m\": \"image/jpg\", \"p\": [{\"y\": 56, \"x\": 108, \"u\": \"https://preview.redd.it/rl8mtc0kz1971.jpg?width=108&amp;crop=smart&amp;auto=webp&amp;s=4601d031b604599a2c3749e880e603cca3cb7a72\"}, {\"y\": 113, \"x\": 216, \"u\": \"https://preview.redd.it/rl8mtc0kz1971.jpg?width=216&amp;crop=smart&amp;auto=webp&amp;s=1ab0e4da096524826e2049460e40c6fd035c0be7\"}, {\"y\": 168, \"x\": 320, \"u\": \"https://preview.redd.it/rl8mtc0kz1971.jpg?width=320&amp;crop=smart&amp;auto=webp&amp;s=467013dbc666837804f39bbb92b24a1da98ec747\"}, {\"y\": 336, \"x\": 640, \"u\": \"https://preview.redd.it/rl8mtc0kz1971.jpg?width=640&amp;crop=smart&amp;auto=webp&amp;s=3ecc5875a927520f25ca1ec2bf4c267f6226472e\"}, {\"y\": 504, \"x\": 960, \"u\": \"https://preview.redd.it/rl8mtc0kz1971.jpg?width=960&amp;crop=smart&amp;auto=webp&amp;s=c947cc60e9bbd2e2e4af461551782af4b8e6f323\"}, {\"y\": 567, \"x\": 1080, \"u\": \"https://preview.redd.it/rl8mtc0kz1971.jpg?width=1080&amp;crop=smart&amp;auto=webp&amp;s=2bd23f85e60465330e0d8e5829946bc96a4117ca\"}], \"s\": {\"y\": 630, \"x\": 1200, \"u\": \"https://preview.redd.it/rl8mtc0kz1971.jpg?width=1200&amp;format=pjpg&amp;auto=webp&amp;s=924c06e7499035ea16957806203654cd2eff598d\"}, \"id\": \"rl8mtc0kz1971\"}, \"m8hcze0kz1971\": {\"status\": \"valid\", \"e\": \"AnimatedImage\", \"m\": \"image/gif\", \"p\": [{\"y\": 78, \"x\": 108, \"u\": \"https://preview.redd.it/m8hcze0kz1971.gif?width=108&amp;crop=smart&amp;format=png8&amp;s=e211f8cfc9fb6d1760b76e65d61c43872927d87b\"}, {\"y\": 157, \"x\": 216, \"u\": \"https://preview.redd.it/m8hcze0kz1971.gif?width=216&amp;crop=smart&amp;format=png8&amp;s=f6c03d66793f91fe3c8bf1b4b246cd1e09915dc8\"}, {\"y\": 233, \"x\": 320, \"u\": \"https://preview.redd.it/m8hcze0kz1971.gif?width=320&amp;crop=smart&amp;format=png8&amp;s=617f1d7ab39655228568f3db862f42ce7c5c40fd\"}], \"s\": {\"y\": 292, \"gif\": \"https://i.redd.it/m8hcze0kz1971.gif\", \"mp4\": \"https://preview.redd.it/m8hcze0kz1971.gif?format=mp4&amp;s=f49caf3f37ccdef9f58a24298c6a59c4c41af492\", \"x\": 400}, \"id\": \"m8hcze0kz1971\"}}, \"name\": \"t3_od56h4\", \"quarantine\": false, \"link_flair_text_color\": \"dark\", \"upvote_ratio\": 0.99, \"author_flair_background_color\": null, \"subreddit_type\": \"public\", \"ups\": 258, \"total_awards_received\": 0, \"media_embed\": {}, \"thumbnail_width\": 140, \"author_flair_template_id\": null, \"is_original_content\": false, \"user_reports\": [], \"secure_media\": null, \"is_reddit_media_domain\": false, \"is_meta\": false, \"category\": null, \"secure_media_embed\": {}, \"gallery_data\": {\"items\": [{\"media_id\": \"m8hcze0kz1971\", \"id\": 54765293}, {\"media_id\": \"rl8mtc0kz1971\", \"id\": 54765294}]}, \"link_flair_text\": null, \"can_mod_post\": false, \"score\": 258, \"approved_by\": null, \"is_created_from_ads_ui\": false, \"author_premium\": false, \"thumbnail\": \"https://b.thumbs.redditmedia.com/Sxdw1YimbWJTtMNpCNcHV3xRm2t9zv03VzZN72vZ81g.jpg\", \"edited\": false, \"author_flair_css_class\": null, \"author_flair_richtext\": [], \"gildings\": {}, \"content_categories\": null, \"is_self\": false, \"mod_note\": null, \"created\": 1625342300.0, \"link_flair_type\": \"text\", \"wls\": 6, \"removed_by_category\": null, \"banned_by\": null, \"author_flair_type\": \"text\", \"domain\": \"reddit.com\", \"allow_live_comments\": false, \"selftext_html\": null, \"likes\": null, \"suggested_sort\": null, \"banned_at_utc\": null, \"url_overridden_by_dest\": \"https://www.reddit.com/gallery/od56h4\", \"view_count\": null, \"archived\": false, \"no_follow\": false, \"is_crosspostable\": false, \"pinned\": false, \"over_18\": false, \"all_awardings\": [], \"awarders\": [], \"media_only\": false, \"can_gild\": false, \"spoiler\": false, \"locked\": false, \"author_flair_text\": null, \"treatment_tags\": [], \"visited\": false, \"removed_by\": null, \"num_reports\": null, \"distinguished\": null, \"subreddit_id\": \"t5_2rg21\", \"mod_reason_by\": null, \"removal_reason\": null, \"link_flair_background_color\": \"\", \"id\": \"od56h4\", \"is_robot_indexable\": true, \"report_reasons\": null, \"author\": \"NipplesDangerPants\", \"discussion_type\": null, \"num_comments\": 13, \"send_replies\": true, \"whitelist_status\": \"all_ads\", \"contest_mode\": false, \"mod_reports\": [], \"author_patreon_flair\": false, \"author_flair_text_color\": null, \"permalink\": \"/r/90s/comments/od56h4/penny_from_peewees_play_house/\", \"parent_whitelist_status\": \"all_ads\", \"stickied\": false, \"url\": \"https://www.reddit.com/gallery/od56h4\", \"subreddit_subscribers\": 112083, \"created_utc\": 1625342300.0, \"num_crossposts\": 0, \"media\": null, \"is_video\": false}}], \"before\": null}}'"
      ]
     },
     "execution_count": 7,
     "metadata": {},
     "output_type": "execute_result"
    }
   ],
   "source": [
    "response.text"
   ]
  },
  {
   "cell_type": "code",
   "execution_count": 8,
   "id": "constitutional-barbados",
   "metadata": {},
   "outputs": [],
   "source": [
    "data = response.text"
   ]
  },
  {
   "cell_type": "code",
   "execution_count": null,
   "id": "false-motivation",
   "metadata": {},
   "outputs": [],
   "source": []
  }
 ],
 "metadata": {
  "kernelspec": {
   "display_name": "Python 3",
   "language": "python",
   "name": "python3"
  },
  "language_info": {
   "codemirror_mode": {
    "name": "ipython",
    "version": 3
   },
   "file_extension": ".py",
   "mimetype": "text/x-python",
   "name": "python",
   "nbconvert_exporter": "python",
   "pygments_lexer": "ipython3",
   "version": "3.9.1"
  }
 },
 "nbformat": 4,
 "nbformat_minor": 5
}
